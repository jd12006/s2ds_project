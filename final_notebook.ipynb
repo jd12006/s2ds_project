{
 "cells": [
  {
   "cell_type": "code",
   "execution_count": 5,
   "metadata": {
    "collapsed": false
   },
   "outputs": [],
   "source": [
    "import numpy as np\n",
    "import pandas as pd\n",
    "import os\n",
    "from datetime import datetime, timedelta\n",
    "import time\n",
    "import matplotlib.pyplot as plt\n",
    "import seaborn as sns\n",
    "import time\n",
    "\n",
    "from cuzco import get_views\n",
    "from cuzco import time_series\n",
    "from cuzco import anomaly_explanation\n",
    "from cuzco import traffic_report\n",
    "\n",
    "%matplotlib notebook\n",
    "from imp import reload\n",
    "reload(get_views);\n",
    "reload(time_series);\n",
    "reload(anomaly_explanation);\n",
    "reload(traffic_report);"
   ]
  },
  {
   "cell_type": "code",
   "execution_count": 6,
   "metadata": {
    "collapsed": false
   },
   "outputs": [
    {
     "name": "stdout",
     "output_type": "stream",
     "text": [
      "Creating... data/views_sun_by_minute_2017-05-24_2017-06-06.csv\n",
      "File already exists!\n",
      "Using tolerance 6.70\n",
      "**************\n",
      "Summary Report \n",
      "**************\n",
      "Percentage of anomalies in the period: 3.358%\n",
      "Time for detection: 0.254 seconds\n",
      "Analysing section\n",
      "Creating... data/views_sun_by_minute_section_clean_2017-05-24_2017-06-06.csv\n",
      "File already exists!\n",
      "news tv & showbiz sport tech motors money all living travel other \n",
      "\n",
      "Analysing location\n",
      "Creating... data/views_sun_by_minute_location_2017-05-24_2017-06-06.csv\n",
      "File already exists!\n",
      "GBR ROW \n",
      "\n",
      "Analysing device_type\n",
      "Creating... data/views_sun_by_minute_device_type_2017-05-24_2017-06-06.csv\n",
      "File already exists!\n",
      "Mobile Phone Desktop UNKNOWN Tablet Media Player \n",
      "\n",
      "Total time until anomaly analysis: 60.38s\n"
     ]
    }
   ],
   "source": [
    "t = time.time()\n",
    "son = traffic_report.traffic_report(newspaper='sun', granularity='minute', start_date='2017-05-24', \n",
    "                                    end_date='2017-06-06', detection_period=14)\n",
    "print(\"Total time until anomaly analysis: %.2fs\"%(time.time()-t))"
   ]
  },
  {
   "cell_type": "code",
   "execution_count": 10,
   "metadata": {
    "collapsed": false
   },
   "outputs": [
    {
     "data": {
      "text/plain": [
       "'{\"2017-06-05 15:19:00\": {\"duration\": 3, \"end_timestamp\": \"2017-06-05 15:22:00\", \"largest_anomaly_in_the_period\": 18201, \"list_of_explainers\": \",ROW,UNKNOWN,\", \"anomaly_type\": [\"Positive\"], \"type_of_explainers\": \" ,section,location,device_type\"}, \"2017-06-04 10:40:00\": {\"duration\": 1, \"end_timestamp\": \"2017-06-04 10:41:00\", \"largest_anomaly_in_the_period\": 16437, \"list_of_explainers\": \"news,GBR,Media Player,\", \"anomaly_type\": [\"Positive\"], \"type_of_explainers\": \" ,section,location,device_type\"}, \"2017-06-05 18:41:00\": {\"duration\": 50, \"end_timestamp\": \"2017-06-05 19:31:00\", \"largest_anomaly_in_the_period\": 18407, \"list_of_explainers\": \"tv & showbiz, sport,\", \"anomaly_type\": [\"Positive\"], \"type_of_explainers\": \" ,section\"}, \"2017-06-03 22:55:00\": {\"duration\": 5, \"end_timestamp\": \"2017-06-03 23:00:00\", \"largest_anomaly_in_the_period\": 15777, \"list_of_explainers\": \"news, tv & showbiz, sport, living, all,Mobile Phone, UNKNOWN,\", \"anomaly_type\": [\"Negative\"], \"type_of_explainers\": \" ,section,device_type\"}, \"2017-06-05 19:47:00\": {\"duration\": 2, \"end_timestamp\": \"2017-06-05 19:49:00\", \"largest_anomaly_in_the_period\": 18407, \"list_of_explainers\": \"tv & showbiz,GBR,UNKNOWN,\", \"anomaly_type\": [\"Positive\"], \"type_of_explainers\": \" ,section,location,device_type\"}, \"2017-06-05 13:27:00\": {\"duration\": 1, \"end_timestamp\": \"2017-06-05 13:28:00\", \"largest_anomaly_in_the_period\": 17112, \"list_of_explainers\": \"tv & showbiz, sport,Desktop, UNKNOWN,\", \"anomaly_type\": [\"Positive\"], \"type_of_explainers\": \" ,section,device_type\"}, \"2017-06-05 14:21:00\": {\"duration\": 48, \"end_timestamp\": \"2017-06-05 15:09:00\", \"largest_anomaly_in_the_period\": 18156, \"list_of_explainers\": \"news, tv & showbiz, sport,UNKNOWN, Media Player,\", \"anomaly_type\": [\"Positive\"], \"type_of_explainers\": \" ,section,device_type\"}, \"2017-06-05 16:26:00\": {\"duration\": 1, \"end_timestamp\": \"2017-06-05 16:27:00\", \"largest_anomaly_in_the_period\": 18247, \"list_of_explainers\": \"tv & showbiz,,,\", \"anomaly_type\": [\"Positive\"], \"type_of_explainers\": \" ,section,location,device_type\"}, \"2017-06-05 16:35:00\": {\"duration\": 50, \"end_timestamp\": \"2017-06-05 17:25:00\", \"largest_anomaly_in_the_period\": 18283, \"list_of_explainers\": \"sport, all,\", \"anomaly_type\": [\"Positive\"], \"type_of_explainers\": \" ,section\"}, \"2017-06-05 17:40:00\": {\"duration\": 42, \"end_timestamp\": \"2017-06-05 18:22:00\", \"largest_anomaly_in_the_period\": 18360, \"list_of_explainers\": \"tv & showbiz, sport,Desktop, UNKNOWN, Media Player,\", \"anomaly_type\": [\"Positive\"], \"type_of_explainers\": \" ,section,device_type\"}, \"2017-05-24 21:30:00\": {\"duration\": 1, \"end_timestamp\": \"2017-05-24 21:31:00\", \"largest_anomaly_in_the_period\": 1290, \"list_of_explainers\": \"news,GBR,UNKNOWN,\", \"anomaly_type\": [\"Positive\"], \"type_of_explainers\": \" ,section,location,device_type\"}, \"2017-06-03 22:04:00\": {\"duration\": 3, \"end_timestamp\": \"2017-06-03 22:07:00\", \"largest_anomaly_in_the_period\": 15725, \"list_of_explainers\": \"tv & showbiz,GBR,UNKNOWN, Media Player,\", \"anomaly_type\": [\"Positive\"], \"type_of_explainers\": \" ,section,location,device_type\"}, \"2017-06-04 02:21:00\": {\"duration\": 8, \"end_timestamp\": \"2017-06-04 02:29:00\", \"largest_anomaly_in_the_period\": 15983, \"list_of_explainers\": \"news,ROW,Desktop, UNKNOWN,\", \"anomaly_type\": [\"Positive\"], \"type_of_explainers\": \" ,section,location,device_type\"}, \"2017-06-06 21:48:00\": {\"duration\": 3, \"end_timestamp\": \"2017-06-06 21:51:00\", \"largest_anomaly_in_the_period\": 20029, \"list_of_explainers\": \"tv & showbiz, living,GBR,UNKNOWN, Tablet,\", \"anomaly_type\": [\"Positive\"], \"type_of_explainers\": \" ,section,location,device_type\"}, \"2017-06-01 19:16:00\": {\"duration\": 5, \"end_timestamp\": \"2017-06-01 19:21:00\", \"largest_anomaly_in_the_period\": 12679, \"list_of_explainers\": \"tv & showbiz, living,Desktop, UNKNOWN, Media Player,\", \"anomaly_type\": [\"Positive\"], \"type_of_explainers\": \" ,section,device_type\"}, \"2017-06-06 21:30:00\": {\"duration\": 4, \"end_timestamp\": \"2017-06-06 21:34:00\", \"largest_anomaly_in_the_period\": 20013, \"list_of_explainers\": \"tv & showbiz, living,GBR,Desktop, UNKNOWN,\", \"anomaly_type\": [\"Positive\"], \"type_of_explainers\": \" ,section,location,device_type\"}, \"2017-06-05 18:24:00\": {\"duration\": 1, \"end_timestamp\": \"2017-06-05 18:25:00\", \"largest_anomaly_in_the_period\": 18360, \"list_of_explainers\": \"sport,ROW,Media Player,\", \"anomaly_type\": [\"Positive\"], \"type_of_explainers\": \" ,section,location,device_type\"}, \"2017-06-01 20:33:00\": {\"duration\": 1, \"end_timestamp\": \"2017-06-01 20:34:00\", \"largest_anomaly_in_the_period\": 12679, \"list_of_explainers\": \"news, money,ROW,UNKNOWN, Media Player,\", \"anomaly_type\": [\"Positive\"], \"type_of_explainers\": \" ,section,location,device_type\"}, \"2017-06-05 22:06:00\": {\"duration\": 4, \"end_timestamp\": \"2017-06-05 22:10:00\", \"largest_anomaly_in_the_period\": 18608, \"list_of_explainers\": \"tv & showbiz,GBR,UNKNOWN,\", \"anomaly_type\": [\"Positive\"], \"type_of_explainers\": \" ,section,location,device_type\"}, \"2017-06-04 21:11:00\": {\"duration\": 2, \"end_timestamp\": \"2017-06-04 21:13:00\", \"largest_anomaly_in_the_period\": 17112, \"list_of_explainers\": \"living,GBR,UNKNOWN, Media Player,\", \"anomaly_type\": [\"Positive\"], \"type_of_explainers\": \" ,section,location,device_type\"}, \"2017-06-06 21:13:00\": {\"duration\": 4, \"end_timestamp\": \"2017-06-06 21:17:00\", \"largest_anomaly_in_the_period\": 19995, \"list_of_explainers\": \"tv & showbiz, living,GBR,UNKNOWN, Media Player,\", \"anomaly_type\": [\"Positive\"], \"type_of_explainers\": \" ,section,location,device_type\"}, \"2017-06-05 20:17:00\": {\"duration\": 2, \"end_timestamp\": \"2017-06-05 20:19:00\", \"largest_anomaly_in_the_period\": 18499, \"list_of_explainers\": \"tv & showbiz, all,GBR,Mobile Phone, Media Player,\", \"anomaly_type\": [\"Positive\"], \"type_of_explainers\": \" ,section,location,device_type\"}, \"2017-06-05 21:15:00\": {\"duration\": 4, \"end_timestamp\": \"2017-06-05 21:19:00\", \"largest_anomaly_in_the_period\": 18557, \"list_of_explainers\": \"tv & showbiz,GBR,UNKNOWN,\", \"anomaly_type\": [\"Positive\"], \"type_of_explainers\": \" ,section,location,device_type\"}, \"2017-06-03 23:30:00\": {\"duration\": 166, \"end_timestamp\": \"2017-06-04 02:16:00\", \"largest_anomaly_in_the_period\": 15814, \"list_of_explainers\": \"news, other,\", \"anomaly_type\": [\"Positive\"], \"type_of_explainers\": \" ,section\"}, \"2017-06-05 21:09:00\": {\"duration\": 1, \"end_timestamp\": \"2017-06-05 21:10:00\", \"largest_anomaly_in_the_period\": 18499, \"list_of_explainers\": \"tv & showbiz,GBR,UNKNOWN,\", \"anomaly_type\": [\"Positive\"], \"type_of_explainers\": \" ,section,location,device_type\"}, \"2017-06-02 10:15:00\": {\"duration\": 1, \"end_timestamp\": \"2017-06-02 10:16:00\", \"largest_anomaly_in_the_period\": 12679, \"list_of_explainers\": \"tv & showbiz,GBR,UNKNOWN,\", \"anomaly_type\": [\"Positive\"], \"type_of_explainers\": \" ,section,location,device_type\"}, \"2017-06-04 10:59:00\": {\"duration\": 3, \"end_timestamp\": \"2017-06-04 11:02:00\", \"largest_anomaly_in_the_period\": 16500, \"list_of_explainers\": \"news,GBR,,\", \"anomaly_type\": [\"Positive\"], \"type_of_explainers\": \" ,section,location,device_type\"}, \"2017-06-04 10:43:00\": {\"duration\": 13, \"end_timestamp\": \"2017-06-04 10:56:00\", \"largest_anomaly_in_the_period\": 16489, \"list_of_explainers\": \"news,GBR,\", \"anomaly_type\": [\"Positive\"], \"type_of_explainers\": \" ,section,location\"}, \"2017-06-04 07:29:00\": {\"duration\": 1, \"end_timestamp\": \"2017-06-04 07:30:00\", \"largest_anomaly_in_the_period\": 15983, \"list_of_explainers\": \"news, all,,Mobile Phone,\", \"anomaly_type\": [\"Positive\"], \"type_of_explainers\": \" ,section,location,device_type\"}, \"2017-06-05 21:54:00\": {\"duration\": 3, \"end_timestamp\": \"2017-06-05 21:57:00\", \"largest_anomaly_in_the_period\": 18580, \"list_of_explainers\": \"tv & showbiz,GBR,Desktop, UNKNOWN, Media Player,\", \"anomaly_type\": [\"Positive\"], \"type_of_explainers\": \" ,section,location,device_type\"}, \"2017-06-03 22:29:00\": {\"duration\": 26, \"end_timestamp\": \"2017-06-03 22:55:00\", \"largest_anomaly_in_the_period\": 15766, \"list_of_explainers\": \"news, tv & showbiz,\", \"anomaly_type\": [\"Positive\"], \"type_of_explainers\": \" ,section\"}, \"2017-06-03 21:52:00\": {\"duration\": 1, \"end_timestamp\": \"2017-06-03 21:53:00\", \"largest_anomaly_in_the_period\": 12679, \"list_of_explainers\": \"sport,ROW,UNKNOWN, Media Player,\", \"anomaly_type\": [\"Positive\"], \"type_of_explainers\": \" ,section,location,device_type\"}, \"2017-06-04 07:48:00\": {\"duration\": 168, \"end_timestamp\": \"2017-06-04 10:36:00\", \"largest_anomaly_in_the_period\": 16437, \"list_of_explainers\": \"news, all, other,\", \"anomaly_type\": [\"Positive\"], \"type_of_explainers\": \" ,section\"}, \"2017-06-06 21:23:00\": {\"duration\": 5, \"end_timestamp\": \"2017-06-06 21:28:00\", \"largest_anomaly_in_the_period\": 19995, \"list_of_explainers\": \"tv & showbiz, living,GBR,UNKNOWN, Media Player,\", \"anomaly_type\": [\"Positive\"], \"type_of_explainers\": \" ,section,location,device_type\"}, \"2017-06-03 23:00:00\": {\"duration\": 27, \"end_timestamp\": \"2017-06-03 23:27:00\", \"largest_anomaly_in_the_period\": 15781, \"list_of_explainers\": \"news, all,\", \"anomaly_type\": [\"Positive\"], \"type_of_explainers\": \" ,section\"}, \"2017-06-05 21:39:00\": {\"duration\": 3, \"end_timestamp\": \"2017-06-05 21:42:00\", \"largest_anomaly_in_the_period\": 18580, \"list_of_explainers\": \"tv & showbiz,GBR,UNKNOWN,\", \"anomaly_type\": [\"Positive\"], \"type_of_explainers\": \" ,section,location,device_type\"}, \"2017-06-05 16:05:00\": {\"duration\": 14, \"end_timestamp\": \"2017-06-05 16:19:00\", \"largest_anomaly_in_the_period\": 18247, \"list_of_explainers\": \"tv & showbiz, sport, motors,Desktop, UNKNOWN, Media Player,\", \"anomaly_type\": [\"Positive\"], \"type_of_explainers\": \" ,section,device_type\"}}'"
      ]
     },
     "execution_count": 10,
     "metadata": {},
     "output_type": "execute_result"
    }
   ],
   "source": [
    "son"
   ]
  },
  {
   "cell_type": "code",
   "execution_count": null,
   "metadata": {
    "collapsed": true
   },
   "outputs": [],
   "source": []
  }
 ],
 "metadata": {
  "anaconda-cloud": {},
  "kernelspec": {
   "display_name": "Python [default]",
   "language": "python",
   "name": "python3"
  },
  "language_info": {
   "codemirror_mode": {
    "name": "ipython",
    "version": 3
   },
   "file_extension": ".py",
   "mimetype": "text/x-python",
   "name": "python",
   "nbconvert_exporter": "python",
   "pygments_lexer": "ipython3",
   "version": "3.5.2"
  }
 },
 "nbformat": 4,
 "nbformat_minor": 2
}
